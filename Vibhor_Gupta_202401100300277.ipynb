import matplotlib.pyplot as plt
import seaborn as sns
import pandas as pd
from google.colab import files

# Upload file manually in Google Colab
uploaded = files.upload()

# Get the uploaded filename
file_name = list(uploaded.keys())[0]

# Read the CSV file
df = pd.read_csv(file_name)

# Display the first few rows to inspect data
print(df.head())

# Automatically detect column names
df.columns = df.columns.str.strip()  # Remove any trailing spaces
month_column, sales_column = df.columns[:2]  # Assuming first two columns are Month and Sales

# Set Seaborn style and color palette
sns.set_style("darkgrid")
sns.set_palette("Set2")

# Create a line plot
plt.figure(figsize=(9, 5))
sns.lineplot(x=df[month_column], y=df[sales_column], marker='o', linewidth=2)

# Labels and title
plt.xlabel(month_column, fontsize=12)
plt.ylabel(sales_column, fontsize=12)
plt.title("Monthly Sales Data", fontsize=14)
plt.xticks(rotation=45)  # Rotate labels if needed
plt.grid(True, linestyle="--", alpha=0.6)

# Show the plot
plt.show()
